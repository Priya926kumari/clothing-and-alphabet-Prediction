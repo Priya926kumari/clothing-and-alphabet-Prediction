{
 "cells": [
  {
   "cell_type": "markdown",
   "metadata": {},
   "source": [
   "# Name:Priya Kumari"
   ]
  },
  {
   "cell_type": "markdown",
   "metadata": {},
   "source": [
    "#####  Dataset: The Alphabet  dataset used below consists of images of alphabets represented by a total of 785 columns, where the first column represents the alphabet numbering from 0-25 as A-Z. "
   ]
  },
  {
   "cell_type": "code",
   "execution_count": 1,
   "metadata": {},
   "outputs": [],
   "source": [
    "import pandas as pd\n",
    "import matplotlib.pyplot as plt\n",
    "import numpy as np\n",
    "from sklearn.pipeline import Pipeline\n",
    "from sklearn.model_selection import train_test_split\n",
    "from sklearn.linear_model import LogisticRegression\n",
    "from sklearn.svm import SVC\n",
    "from sklearn.ensemble import RandomForestClassifier\n",
    "from sklearn.ensemble import VotingClassifier\n",
    "from sklearn.ensemble import BaggingClassifier\n",
    "from sklearn.tree import DecisionTreeClassifier\n",
    "from sklearn.metrics import accuracy_score,f1_score\n",
    "from sklearn.linear_model import LogisticRegression, SGDClassifier\n",
    "import warnings\n",
    "warnings.filterwarnings(\"ignore\")"
   ]
  },
  {
   "cell_type": "markdown",
   "metadata": {},
   "source": [
    "### Download and load the dataset. Split into train and test sets. Create a validation set . Display a few images."
   ]
  },
  {
   "cell_type": "code",
   "execution_count": 2,
   "metadata": {},
   "outputs": [
    {
     "data": {
      "text/html": [
       "<div>\n",
       "<style scoped>\n",
       "    .dataframe tbody tr th:only-of-type {\n",
       "        vertical-align: middle;\n",
       "    }\n",
       "\n",
       "    .dataframe tbody tr th {\n",
       "        vertical-align: top;\n",
       "    }\n",
       "\n",
       "    .dataframe thead th {\n",
       "        text-align: right;\n",
       "    }\n",
       "</style>\n",
       "<table border=\"1\" class=\"dataframe\">\n",
       "  <thead>\n",
       "    <tr style=\"text-align: right;\">\n",
       "      <th></th>\n",
       "      <th>0</th>\n",
       "      <th>0.1</th>\n",
       "      <th>0.2</th>\n",
       "      <th>0.3</th>\n",
       "      <th>0.4</th>\n",
       "      <th>0.5</th>\n",
       "      <th>0.6</th>\n",
       "      <th>0.7</th>\n",
       "      <th>0.8</th>\n",
       "      <th>0.9</th>\n",
       "      <th>...</th>\n",
       "      <th>0.639</th>\n",
       "      <th>0.640</th>\n",
       "      <th>0.641</th>\n",
       "      <th>0.642</th>\n",
       "      <th>0.643</th>\n",
       "      <th>0.644</th>\n",
       "      <th>0.645</th>\n",
       "      <th>0.646</th>\n",
       "      <th>0.647</th>\n",
       "      <th>0.648</th>\n",
       "    </tr>\n",
       "  </thead>\n",
       "  <tbody>\n",
       "    <tr>\n",
       "      <th>0</th>\n",
       "      <td>3</td>\n",
       "      <td>0</td>\n",
       "      <td>0</td>\n",
       "      <td>0</td>\n",
       "      <td>0</td>\n",
       "      <td>0</td>\n",
       "      <td>0</td>\n",
       "      <td>0</td>\n",
       "      <td>0</td>\n",
       "      <td>0</td>\n",
       "      <td>...</td>\n",
       "      <td>0</td>\n",
       "      <td>0</td>\n",
       "      <td>0</td>\n",
       "      <td>0</td>\n",
       "      <td>0</td>\n",
       "      <td>0</td>\n",
       "      <td>0</td>\n",
       "      <td>0</td>\n",
       "      <td>0</td>\n",
       "      <td>0</td>\n",
       "    </tr>\n",
       "    <tr>\n",
       "      <th>1</th>\n",
       "      <td>20</td>\n",
       "      <td>0</td>\n",
       "      <td>0</td>\n",
       "      <td>0</td>\n",
       "      <td>0</td>\n",
       "      <td>0</td>\n",
       "      <td>0</td>\n",
       "      <td>0</td>\n",
       "      <td>0</td>\n",
       "      <td>0</td>\n",
       "      <td>...</td>\n",
       "      <td>0</td>\n",
       "      <td>0</td>\n",
       "      <td>0</td>\n",
       "      <td>0</td>\n",
       "      <td>0</td>\n",
       "      <td>0</td>\n",
       "      <td>0</td>\n",
       "      <td>0</td>\n",
       "      <td>0</td>\n",
       "      <td>0</td>\n",
       "    </tr>\n",
       "    <tr>\n",
       "      <th>2</th>\n",
       "      <td>17</td>\n",
       "      <td>0</td>\n",
       "      <td>0</td>\n",
       "      <td>0</td>\n",
       "      <td>0</td>\n",
       "      <td>0</td>\n",
       "      <td>0</td>\n",
       "      <td>0</td>\n",
       "      <td>0</td>\n",
       "      <td>0</td>\n",
       "      <td>...</td>\n",
       "      <td>0</td>\n",
       "      <td>0</td>\n",
       "      <td>0</td>\n",
       "      <td>0</td>\n",
       "      <td>0</td>\n",
       "      <td>0</td>\n",
       "      <td>0</td>\n",
       "      <td>0</td>\n",
       "      <td>0</td>\n",
       "      <td>0</td>\n",
       "    </tr>\n",
       "    <tr>\n",
       "      <th>3</th>\n",
       "      <td>19</td>\n",
       "      <td>0</td>\n",
       "      <td>0</td>\n",
       "      <td>0</td>\n",
       "      <td>0</td>\n",
       "      <td>0</td>\n",
       "      <td>0</td>\n",
       "      <td>0</td>\n",
       "      <td>0</td>\n",
       "      <td>0</td>\n",
       "      <td>...</td>\n",
       "      <td>0</td>\n",
       "      <td>0</td>\n",
       "      <td>0</td>\n",
       "      <td>0</td>\n",
       "      <td>0</td>\n",
       "      <td>0</td>\n",
       "      <td>0</td>\n",
       "      <td>0</td>\n",
       "      <td>0</td>\n",
       "      <td>0</td>\n",
       "    </tr>\n",
       "    <tr>\n",
       "      <th>4</th>\n",
       "      <td>14</td>\n",
       "      <td>0</td>\n",
       "      <td>0</td>\n",
       "      <td>0</td>\n",
       "      <td>0</td>\n",
       "      <td>0</td>\n",
       "      <td>0</td>\n",
       "      <td>0</td>\n",
       "      <td>0</td>\n",
       "      <td>0</td>\n",
       "      <td>...</td>\n",
       "      <td>0</td>\n",
       "      <td>0</td>\n",
       "      <td>0</td>\n",
       "      <td>0</td>\n",
       "      <td>0</td>\n",
       "      <td>0</td>\n",
       "      <td>0</td>\n",
       "      <td>0</td>\n",
       "      <td>0</td>\n",
       "      <td>0</td>\n",
       "    </tr>\n",
       "    <tr>\n",
       "      <th>5</th>\n",
       "      <td>10</td>\n",
       "      <td>0</td>\n",
       "      <td>0</td>\n",
       "      <td>0</td>\n",
       "      <td>0</td>\n",
       "      <td>0</td>\n",
       "      <td>0</td>\n",
       "      <td>0</td>\n",
       "      <td>0</td>\n",
       "      <td>0</td>\n",
       "      <td>...</td>\n",
       "      <td>0</td>\n",
       "      <td>0</td>\n",
       "      <td>0</td>\n",
       "      <td>0</td>\n",
       "      <td>0</td>\n",
       "      <td>0</td>\n",
       "      <td>0</td>\n",
       "      <td>0</td>\n",
       "      <td>0</td>\n",
       "      <td>0</td>\n",
       "    </tr>\n",
       "    <tr>\n",
       "      <th>6</th>\n",
       "      <td>14</td>\n",
       "      <td>0</td>\n",
       "      <td>0</td>\n",
       "      <td>0</td>\n",
       "      <td>0</td>\n",
       "      <td>0</td>\n",
       "      <td>0</td>\n",
       "      <td>0</td>\n",
       "      <td>0</td>\n",
       "      <td>0</td>\n",
       "      <td>...</td>\n",
       "      <td>0</td>\n",
       "      <td>0</td>\n",
       "      <td>0</td>\n",
       "      <td>0</td>\n",
       "      <td>0</td>\n",
       "      <td>0</td>\n",
       "      <td>0</td>\n",
       "      <td>0</td>\n",
       "      <td>0</td>\n",
       "      <td>0</td>\n",
       "    </tr>\n",
       "    <tr>\n",
       "      <th>7</th>\n",
       "      <td>25</td>\n",
       "      <td>0</td>\n",
       "      <td>0</td>\n",
       "      <td>0</td>\n",
       "      <td>0</td>\n",
       "      <td>0</td>\n",
       "      <td>0</td>\n",
       "      <td>0</td>\n",
       "      <td>0</td>\n",
       "      <td>0</td>\n",
       "      <td>...</td>\n",
       "      <td>0</td>\n",
       "      <td>0</td>\n",
       "      <td>0</td>\n",
       "      <td>0</td>\n",
       "      <td>0</td>\n",
       "      <td>0</td>\n",
       "      <td>0</td>\n",
       "      <td>0</td>\n",
       "      <td>0</td>\n",
       "      <td>0</td>\n",
       "    </tr>\n",
       "    <tr>\n",
       "      <th>8</th>\n",
       "      <td>0</td>\n",
       "      <td>0</td>\n",
       "      <td>0</td>\n",
       "      <td>0</td>\n",
       "      <td>0</td>\n",
       "      <td>0</td>\n",
       "      <td>0</td>\n",
       "      <td>0</td>\n",
       "      <td>0</td>\n",
       "      <td>0</td>\n",
       "      <td>...</td>\n",
       "      <td>0</td>\n",
       "      <td>0</td>\n",
       "      <td>0</td>\n",
       "      <td>0</td>\n",
       "      <td>0</td>\n",
       "      <td>0</td>\n",
       "      <td>0</td>\n",
       "      <td>0</td>\n",
       "      <td>0</td>\n",
       "      <td>0</td>\n",
       "    </tr>\n",
       "    <tr>\n",
       "      <th>9</th>\n",
       "      <td>14</td>\n",
       "      <td>0</td>\n",
       "      <td>0</td>\n",
       "      <td>0</td>\n",
       "      <td>0</td>\n",
       "      <td>0</td>\n",
       "      <td>0</td>\n",
       "      <td>0</td>\n",
       "      <td>0</td>\n",
       "      <td>0</td>\n",
       "      <td>...</td>\n",
       "      <td>0</td>\n",
       "      <td>0</td>\n",
       "      <td>0</td>\n",
       "      <td>0</td>\n",
       "      <td>0</td>\n",
       "      <td>0</td>\n",
       "      <td>0</td>\n",
       "      <td>0</td>\n",
       "      <td>0</td>\n",
       "      <td>0</td>\n",
       "    </tr>\n",
       "  </tbody>\n",
       "</table>\n",
       "<p>10 rows × 785 columns</p>\n",
       "</div>"
      ],
      "text/plain": [
       "    0  0.1  0.2  0.3  0.4  0.5  0.6  0.7  0.8  0.9  ...  0.639  0.640  0.641  \\\n",
       "0   3    0    0    0    0    0    0    0    0    0  ...      0      0      0   \n",
       "1  20    0    0    0    0    0    0    0    0    0  ...      0      0      0   \n",
       "2  17    0    0    0    0    0    0    0    0    0  ...      0      0      0   \n",
       "3  19    0    0    0    0    0    0    0    0    0  ...      0      0      0   \n",
       "4  14    0    0    0    0    0    0    0    0    0  ...      0      0      0   \n",
       "5  10    0    0    0    0    0    0    0    0    0  ...      0      0      0   \n",
       "6  14    0    0    0    0    0    0    0    0    0  ...      0      0      0   \n",
       "7  25    0    0    0    0    0    0    0    0    0  ...      0      0      0   \n",
       "8   0    0    0    0    0    0    0    0    0    0  ...      0      0      0   \n",
       "9  14    0    0    0    0    0    0    0    0    0  ...      0      0      0   \n",
       "\n",
       "   0.642  0.643  0.644  0.645  0.646  0.647  0.648  \n",
       "0      0      0      0      0      0      0      0  \n",
       "1      0      0      0      0      0      0      0  \n",
       "2      0      0      0      0      0      0      0  \n",
       "3      0      0      0      0      0      0      0  \n",
       "4      0      0      0      0      0      0      0  \n",
       "5      0      0      0      0      0      0      0  \n",
       "6      0      0      0      0      0      0      0  \n",
       "7      0      0      0      0      0      0      0  \n",
       "8      0      0      0      0      0      0      0  \n",
       "9      0      0      0      0      0      0      0  \n",
       "\n",
       "[10 rows x 785 columns]"
      ]
     },
     "execution_count": 2,
     "metadata": {},
     "output_type": "execute_result"
    }
   ],
   "source": [
    "#load the dataset\n",
    "data=pd.read_csv(\"Alphabet_Data.csv\")\n",
    "data.head(10)"
   ]
  },
  {
   "cell_type": "markdown",
   "metadata": {},
   "source": [
    "The first column in the dataset, represented as '0', corresponds to the alphabetical characters from A-Z and is numbered from 0-25"
   ]
  },
  {
   "cell_type": "code",
   "execution_count": 3,
   "metadata": {},
   "outputs": [
    {
     "data": {
      "text/plain": [
       "(93121, 785)"
      ]
     },
     "execution_count": 3,
     "metadata": {},
     "output_type": "execute_result"
    }
   ],
   "source": [
    "data.shape"
   ]
  },
  {
   "cell_type": "markdown",
   "metadata": {},
   "source": [
    "There are  93121  rows and 785 columns"
   ]
  },
  {
   "cell_type": "code",
   "execution_count": 4,
   "metadata": {},
   "outputs": [
    {
     "data": {
      "text/plain": [
       "((74496, 785), (18625, 785))"
      ]
     },
     "execution_count": 4,
     "metadata": {},
     "output_type": "execute_result"
    }
   ],
   "source": [
    "#splitting data into training and testing sets.\n",
    "#The stratify parameter ensures that the label distribution is maintained between the training and testing set\n",
    "train,test = train_test_split(data, test_size=0.20, stratify=data['0'])\n",
    "train.shape,test.shape"
   ]
  },
  {
   "cell_type": "code",
   "execution_count": 5,
   "metadata": {},
   "outputs": [
    {
     "data": {
      "text/plain": [
       "14    11565\n",
       "18     9684\n",
       "20     5802\n",
       "2      4682\n",
       "19     4499\n",
       "15     3869\n",
       "13     3802\n",
       "0      2774\n",
       "12     2467\n",
       "11     2318\n",
       "17     2314\n",
       "4      2288\n",
       "24     2172\n",
       "22     2157\n",
       "3      2027\n",
       "1      1734\n",
       "9      1699\n",
       "7      1444\n",
       "23     1254\n",
       "25     1215\n",
       "16     1162\n",
       "6      1153\n",
       "10     1121\n",
       "21      837\n",
       "5       233\n",
       "8       224\n",
       "Name: 0, dtype: int64"
      ]
     },
     "execution_count": 5,
     "metadata": {},
     "output_type": "execute_result"
    }
   ],
   "source": [
    "#count the number of occurrences of each label in the train DataFrame\n",
    "label_counts = train['0'].value_counts()\n",
    "label_counts"
   ]
  },
  {
   "cell_type": "code",
   "execution_count": 6,
   "metadata": {},
   "outputs": [],
   "source": [
    "#dropping the first column ('0') from the train \n",
    "x = train.drop('0', axis=1)\n",
    "#extracting the label data from the train\n",
    "y = train['0']\n",
    "\n",
    "#splitting the training data into a new training set and a validation set.\n",
    "x_train, x_val, y_train, y_val = train_test_split(x, y, test_size=0.16666, random_state=42)\n",
    "\n",
    "x_test = test.drop('0', axis=1)\n",
    "y_test = test['0']\n"
   ]
  },
  {
   "cell_type": "code",
   "execution_count": 7,
   "metadata": {},
   "outputs": [
    {
     "data": {
      "text/plain": [
       "((62080, 784), (12416, 784), (62080,), (12416,))"
      ]
     },
     "execution_count": 7,
     "metadata": {},
     "output_type": "execute_result"
    }
   ],
   "source": [
    "x_train.shape,x_val.shape,y_train.shape,y_val.shape"
   ]
  },
  {
   "cell_type": "code",
   "execution_count": 33,
   "metadata": {},
   "outputs": [
    {
     "data": {
      "image/png": "[encoded data removed]",
      "text/plain": [
       "<Figure size 144x144 with 1 Axes>"
      ]
     },
     "metadata": {
      "needs_background": "light"
     },
     "output_type": "display_data"
    },
    {
     "data": {
      "image/png": "[encoded data removed]",
      "text/plain": [
       "<Figure size 144x144 with 1 Axes>"
      ]
     },
     "metadata": {
      "needs_background": "light"
     },
     "output_type": "display_data"
    },
    {
     "data": {
      "image/png": "[encoded data removed]",
      "text/plain": [
       "<Figure size 144x144 with 1 Axes>"
      ]
     },
     "metadata": {
      "needs_background": "light"
     },
     "output_type": "display_data"
    },
    {
     "data": {
      "image/png": "[encoded data removed]",
      "text/plain": [
       "<Figure size 144x144 with 1 Axes>"
      ]
     },
     "metadata": {
      "needs_background": "light"
     },
     "output_type": "display_data"
    },
    {
     "data": {
      "image/png": "[encoded data removed]",
      "text/plain": [
       "<Figure size 144x144 with 1 Axes>"
      ]
     },
     "metadata": {
      "needs_background": "light"
     },
     "output_type": "display_data"
    },
    {
     "data": {
      "image/png": "[encoded data removed]",
      "text/plain": [
       "<Figure size 144x144 with 1 Axes>"
      ]
     },
     "metadata": {
      "needs_background": "light"
     },
     "output_type": "display_data"
    },
    {
     "data": {
      "image/png": "[encoded data removed]",
      "text/plain": [
       "<Figure size 144x144 with 1 Axes>"
      ]
     },
     "metadata": {
      "needs_background": "light"
     },
     "output_type": "display_data"
    },
    {
     "data": {
      "image/png": "[encoded data removed]",
      "text/plain": [
       "<Figure size 144x144 with 1 Axes>"
      ]
     },
     "metadata": {
      "needs_background": "light"
     },
     "output_type": "display_data"
    },
    {
     "data": {
      "image/png": "[encoded data removed]",
      "text/plain": [
       "<Figure size 144x144 with 1 Axes>"
      ]
     },
     "metadata": {
      "needs_background": "light"
     },
     "output_type": "display_data"
    },
    {
     "data": {
      "image/png": "[encoded data removed]",
      "text/plain": [
       "<Figure size 144x144 with 1 Axes>"
      ]
     },
     "metadata": {
      "needs_background": "light"
     },
     "output_type": "display_data"
    }
   ],
   "source": [
    "'''\n",
    "Displaying a few more images. We are padding the pixel data into a 28x28 array and then using imshow() function from matplotlib to\n",
    "plot the image. We are displaying 10 random images from the train dataset.\n",
    "'''\n",
    "\n",
    "disp_index = [1,141,100,811,512,3003,1111,807,3166,2294]\n",
    "\n",
    "for m in disp_index:\n",
    "    img_data = []\n",
    "    k = []\n",
    "    cnt = 1\n",
    "    for z in x_train.loc[m]:\n",
    "        if(int(cnt)%28 == 0):\n",
    "            k.append(z)\n",
    "            img_data.append(k)\n",
    "            cnt+=1\n",
    "            k=[]\n",
    "        else:\n",
    "            k.append(z)\n",
    "            cnt+=1\n",
    "    plt.figure(figsize=(2, 2))\n",
    "    plt.imshow(img_data, cmap=plt.cm.binary)\n",
    "    plt.show()\n"
   ]
  },
  {
   "cell_type": "markdown",
   "metadata": {},
   "source": [
    "##  Multinomial Logistic Regression (softmax regression)"
   ]
  },
  {
   "cell_type": "code",
   "execution_count": 122,
   "metadata": {},
   "outputs": [
    {
     "name": "stdout",
     "output_type": "stream",
     "text": [
      "Model with penalty = none max_iter = 100 C = 0.001\n",
      "Train Accuracy: 0.892284149484536 Validation Accuracy: 0.8663820876288659 Test Accuracy: 0.8686174496644296\n",
      "Train F1 score: 0.891647500222681 Validation F1 score: 0.8651989850299983 Test f1 score: 0.8677401775515268\n",
      "\n",
      "\n",
      "Model with penalty = none max_iter = 100 C = 1.0\n",
      "Train Accuracy: 0.892284149484536 Validation Accuracy: 0.8663820876288659 Test Accuracy: 0.8686174496644296\n",
      "Train F1 score: 0.891647500222681 Validation F1 score: 0.8651989850299983 Test f1 score: 0.8677401775515268\n",
      "\n",
      "\n",
      "Model with penalty = none max_iter = 100 C = 100.0\n",
      "Train Accuracy: 0.892284149484536 Validation Accuracy: 0.8663820876288659 Test Accuracy: 0.8686174496644296\n",
      "Train F1 score: 0.891647500222681 Validation F1 score: 0.8651989850299983 Test f1 score: 0.8677401775515268\n",
      "\n",
      "\n",
      "Model with penalty = none max_iter = 500 C = 0.001\n",
      "Train Accuracy: 0.9029961340206185 Validation Accuracy: 0.8563949742268041 Test Accuracy: 0.8589530201342281\n",
      "Train F1 score: 0.9025757203615234 Validation F1 score: 0.8552185074120079 Test f1 score: 0.8581371423107979\n",
      "\n",
      "\n",
      "Model with penalty = none max_iter = 500 C = 1.0\n",
      "Train Accuracy: 0.9029961340206185 Validation Accuracy: 0.8563949742268041 Test Accuracy: 0.8589530201342281\n",
      "Train F1 score: 0.9025757203615234 Validation F1 score: 0.8552185074120079 Test f1 score: 0.8581371423107979\n",
      "\n",
      "\n",
      "Model with penalty = none max_iter = 500 C = 100.0\n",
      "Train Accuracy: 0.9029961340206185 Validation Accuracy: 0.8563949742268041 Test Accuracy: 0.8589530201342281\n",
      "Train F1 score: 0.9025757203615234 Validation F1 score: 0.8552185074120079 Test f1 score: 0.8581371423107979\n",
      "\n",
      "\n",
      "Model with penalty = none max_iter = 1000 C = 0.001\n",
      "Train Accuracy: 0.9040753865979382 Validation Accuracy: 0.8564755154639175 Test Accuracy: 0.8577181208053691\n",
      "Train F1 score: 0.9036727198096002 Validation F1 score: 0.8553038059290389 Test f1 score: 0.8568789033267602\n",
      "\n",
      "\n",
      "Model with penalty = none max_iter = 1000 C = 1.0\n",
      "Train Accuracy: 0.9040753865979382 Validation Accuracy: 0.8564755154639175 Test Accuracy: 0.8577181208053691\n",
      "Train F1 score: 0.9036727198096002 Validation F1 score: 0.8553038059290389 Test f1 score: 0.8568789033267602\n",
      "\n",
      "\n",
      "Model with penalty = none max_iter = 1000 C = 100.0\n",
      "Train Accuracy: 0.9040753865979382 Validation Accuracy: 0.8564755154639175 Test Accuracy: 0.8577181208053691\n",
      "Train F1 score: 0.9036727198096002 Validation F1 score: 0.8553038059290389 Test f1 score: 0.8568789033267602\n",
      "\n",
      "\n",
      "Model with penalty = l2 max_iter = 100 C = 0.001\n",
      "Train Accuracy: 0.8929284793814433 Validation Accuracy: 0.8682345360824743 Test Accuracy: 0.8694228187919463\n",
      "Train F1 score: 0.8924003626502173 Validation F1 score: 0.8671584528559252 Test f1 score: 0.8686607434404423\n",
      "\n",
      "\n",
      "Model with penalty = l2 max_iter = 100 C = 1.0\n",
      "Train Accuracy: 0.8917525773195877 Validation Accuracy: 0.8675096649484536 Test Accuracy: 0.8686711409395973\n",
      "Train F1 score: 0.8911845070194099 Validation F1 score: 0.8663975061525153 Test f1 score: 0.8679463086828001\n",
      "\n",
      "\n",
      "Model with penalty = l2 max_iter = 100 C = 100.0\n",
      "Train Accuracy: 0.8919942010309279 Validation Accuracy: 0.8663820876288659 Test Accuracy: 0.8679731543624161\n",
      "Train F1 score: 0.8913908258754442 Validation F1 score: 0.8652234984330588 Test f1 score: 0.8671435139756593\n",
      "\n",
      "\n",
      "Model with penalty = l2 max_iter = 500 C = 0.001\n",
      "Train Accuracy: 0.9032538659793814 Validation Accuracy: 0.8571198453608248 Test Accuracy: 0.8610469798657718\n",
      "Train F1 score: 0.9028353032399865 Validation F1 score: 0.8560013192151189 Test f1 score: 0.8602397770722425\n",
      "\n",
      "\n",
      "Model with penalty = l2 max_iter = 500 C = 1.0\n",
      "Train Accuracy: 0.9029317010309278 Validation Accuracy: 0.8572003865979382 Test Accuracy: 0.859489932885906\n",
      "Train F1 score: 0.9025047919685264 Validation F1 score: 0.8560037496028221 Test f1 score: 0.8586540573011576\n",
      "\n",
      "\n",
      "Model with penalty = l2 max_iter = 500 C = 100.0\n",
      "Train Accuracy: 0.9032216494845361 Validation Accuracy: 0.8569587628865979 Test Accuracy: 0.8597046979865772\n",
      "Train F1 score: 0.9027724217156703 Validation F1 score: 0.8557489475135232 Test f1 score: 0.8588944089479061\n",
      "\n",
      "\n",
      "Model with penalty = l2 max_iter = 1000 C = 0.001\n",
      "Train Accuracy: 0.90402706185567 Validation Accuracy: 0.8574420103092784 Test Accuracy: 0.8588993288590604\n",
      "Train F1 score: 0.9036204765152476 Validation F1 score: 0.8562521326806717 Test f1 score: 0.8580541457801041\n",
      "\n",
      "\n",
      "Model with penalty = l2 max_iter = 1000 C = 1.0\n",
      "Train Accuracy: 0.9041398195876289 Validation Accuracy: 0.8556701030927835 Test Accuracy: 0.8581476510067114\n",
      "Train F1 score: 0.9037383504921748 Validation F1 score: 0.8544409275325945 Test f1 score: 0.8573709508617379\n",
      "\n",
      "\n",
      "Model with penalty = l2 max_iter = 1000 C = 100.0\n",
      "Train Accuracy: 0.9043009020618556 Validation Accuracy: 0.8556701030927835 Test Accuracy: 0.8572348993288591\n",
      "Train F1 score: 0.9038944094755548 Validation F1 score: 0.8544561984338221 Test f1 score: 0.8564640963192844\n",
      "\n",
      "\n"
     ]
    }
   ],
   "source": [
    "'''\n",
    "We will be changing the values of 3 hyper-parameters:- penalty, max_iter and C, to see the impact of the hyperparameters.\n",
    "The solver parameter specifies the algorithm to use in the optimization problem.\n",
    "The penalty parameter specifies the type of regularization to be used.\n",
    "The max_iter parameter specifies the maximum number of iterations for the solver to converge\n",
    "The C parameter specifies the inverse of the regularization strength.\n",
    "'''\n",
    "\n",
    "penalty = ['none', 'l2']\n",
    "max_iter = [100, 500, 1000]\n",
    "C = [0.001, 1.0, 100.0]\n",
    "\n",
    "for a in penalty:\n",
    "    for b in max_iter:\n",
    "        for c in C:\n",
    "            model_1 = LogisticRegression(multi_class='multinomial', solver='lbfgs', penalty=a, max_iter=b, C=c)\n",
    "            model_1.fit(x_train, y_train)\n",
    "            y_pred_train = model_1.predict(x_train)\n",
    "            accuracy_train = accuracy_score(y_train, y_pred_train)\n",
    "            f1_train=f1_score(y_train, y_pred_train, average='weighted')\n",
    "            y_pred_val = model_1.predict(x_val)\n",
    "            accuracy_val = accuracy_score(y_val, y_pred_val)\n",
    "            f1_val = f1_score(y_val, y_pred_val, average='weighted')\n",
    "            y_pred_test = model_1.predict(x_test)\n",
    "            accuracy_test = accuracy_score(y_test, y_pred_test)\n",
    "            f1_test = f1_score(y_test, y_pred_test, average='weighted')\n",
    "            print(\"Model with penalty =\",a,\"max_iter =\",b,\"C =\",c)\n",
    "            print(\"Train Accuracy:\", accuracy_train, \"Validation Accuracy:\", accuracy_val, \"Test Accuracy:\", accuracy_test)\n",
    "            print(\"Train F1 score:\", f1_train, \"Validation F1 score:\", f1_val, \"Test f1 score:\", f1_test)\n",
    "            print(\"\\n\")"
   ]
  },
  {
   "cell_type": "markdown",
   "metadata": {},
   "source": [
    "The logistic regression model with penalty=l2, max_iter=100, and C=0.001 was found to be the best-performing model based on the results obtained. It achieved higher test accuracy (0.869) and test F1 score (0.8686) than all other models. The use of regularization through penalty=l2 generally led to better performance across the models. Although logistic regression achieved an accuracy of about 85-86% on the test set, there may be other models that could potentially outperform it and produce better results."
   ]
  },
  {
   "cell_type": "markdown",
   "metadata": {},
   "source": [
    "# Support Vector Machines"
   ]
  },
  {
   "cell_type": "markdown",
   "metadata": {},
   "source": [
    "### SGD as LinearSVC"
   ]
  },
  {
   "cell_type": "code",
   "execution_count": 11,
   "metadata": {},
   "outputs": [
    {
     "name": "stdout",
     "output_type": "stream",
     "text": [
      "Model with C = 0.001\n",
      "Train Accuracy: 0.7882087628865979 Validation Accuracy: 0.7629671391752577 Test Accuracy: 0.7706308724832215\n",
      "Train F1 score: 0.7892802458571851 Validation F1 score: 0.7616655877082997 Test f1 score: 0.7711497492937867\n",
      "\n",
      "\n",
      "Model with C = 1.0\n",
      "Train Accuracy: 0.7020779639175257 Validation Accuracy: 0.6805734536082474 Test Accuracy: 0.6904161073825503\n",
      "Train F1 score: 0.6966198646842083 Validation F1 score: 0.6721897550830878 Test f1 score: 0.6833812781515608\n",
      "\n",
      "\n",
      "Model with C = 100.0\n",
      "Train Accuracy: 0.7655605670103093 Validation Accuracy: 0.7417042525773195 Test Accuracy: 0.7481342281879194\n",
      "Train F1 score: 0.7668890017104963 Validation F1 score: 0.7420549745762961 Test f1 score: 0.7485420978720004\n",
      "\n",
      "\n"
     ]
    }
   ],
   "source": [
    "\n",
    "C = [0.001, 1.0, 100.0]\n",
    "for c in C:\n",
    "    sgd = SGDClassifier(loss='hinge', alpha=1/(len(x_train)*c), fit_intercept=True, max_iter=1000)\n",
    "    sgd.fit(x_train, y_train)\n",
    "    y_pred_train = sgd.predict(x_train)\n",
    "    accuracy_train = accuracy_score(y_train, y_pred_train)\n",
    "    f1_train=f1_score(y_train, y_pred_train, average='weighted')\n",
    "    y_pred_val = sgd.predict(x_val)\n",
    "    accuracy_val = accuracy_score(y_val, y_pred_val)\n",
    "    f1_val = f1_score(y_val, y_pred_val, average='weighted')\n",
    "    y_pred_test = sgd.predict(x_test)\n",
    "    accuracy_test = accuracy_score(y_test, y_pred_test)\n",
    "    f1_test = f1_score(y_test, y_pred_test, average='weighted')\n",
    "    print(\"Model with C =\",c)\n",
    "    print(\"Train Accuracy:\", accuracy_train, \"Validation Accuracy:\", accuracy_val, \"Test Accuracy:\", accuracy_test)\n",
    "    print(\"Train F1 score:\", f1_train, \"Validation F1 score:\", f1_val, \"Test f1 score:\", f1_test)\n",
    "    print(\"\\n\")"
   ]
  },
  {
   "cell_type": "markdown",
   "metadata": {},
   "source": [
    "The value of the regularization parameter C determines the trade-off between the model's ability to fit the training data closely and its ability to generalize well to new  data. When C is set to a very small value like 0.001, the model is highly regularized and may not fit the training data well, but it may generalize better to new data. However, if C is set too high, the model may overfit to the training data and not generalize well. Therefore, finding the optimal value of C requires careful experimentation and evaluation on multiple datasets.In the above scenario, model with c=0.001 performs better with test accuracy as 0.77"
   ]
  },
  {
   "cell_type": "markdown",
   "metadata": {},
   "source": [
    "### Using different Kernels"
   ]
  },
  {
   "cell_type": "code",
   "execution_count": 13,
   "metadata": {},
   "outputs": [
    {
     "name": "stdout",
     "output_type": "stream",
     "text": [
      "Model with kernel = linear  C= 0.001  gamma= scale\n",
      "Train Accuracy: 0.8890302835051547 Validation Accuracy: 0.8658182989690721 Test Accuracy: 0.8653959731543625\n",
      "Train f1 score: 0.889267013426636 Validation f1 score: 0.865771021155259 Test f1 score: 0.8655351371142919\n",
      "\n",
      "\n",
      "Model with kernel = linear  C= 0.001  gamma= auto\n",
      "Train Accuracy: 0.8890302835051547 Validation Accuracy: 0.8658182989690721 Test Accuracy: 0.8653959731543625\n",
      "Train f1 score: 0.889267013426636 Validation f1 score: 0.865771021155259 Test f1 score: 0.8655351371142919\n",
      "\n",
      "\n",
      "Model with kernel = linear  C= 1.0  gamma= scale\n",
      "Train Accuracy: 0.8890302835051547 Validation Accuracy: 0.8658182989690721 Test Accuracy: 0.8653959731543625\n",
      "Train f1 score: 0.889267013426636 Validation f1 score: 0.865771021155259 Test f1 score: 0.8655351371142919\n",
      "\n",
      "\n",
      "Model with kernel = linear  C= 1.0  gamma= auto\n",
      "Train Accuracy: 0.8890302835051547 Validation Accuracy: 0.8658182989690721 Test Accuracy: 0.8653959731543625\n",
      "Train f1 score: 0.889267013426636 Validation f1 score: 0.865771021155259 Test f1 score: 0.8655351371142919\n",
      "\n",
      "\n",
      "Model with kernel = linear  C= 100.0  gamma= scale\n",
      "Train Accuracy: 0.8890302835051547 Validation Accuracy: 0.8658182989690721 Test Accuracy: 0.8653959731543625\n",
      "Train f1 score: 0.889267013426636 Validation f1 score: 0.865771021155259 Test f1 score: 0.8655351371142919\n",
      "\n",
      "\n",
      "Model with kernel = linear  C= 100.0  gamma= auto\n",
      "Train Accuracy: 0.8890302835051547 Validation Accuracy: 0.8658182989690721 Test Accuracy: 0.8653959731543625\n",
      "Train f1 score: 0.889267013426636 Validation f1 score: 0.865771021155259 Test f1 score: 0.8655351371142919\n",
      "\n",
      "\n",
      "Model with kernel = rbf  C= 0.001  gamma= scale\n",
      "Train Accuracy: 0.1552673969072165 Validation Accuracy: 0.15512242268041238 Test Accuracy: 0.1552751677852349\n",
      "Train f1 score: 0.04173573080463085 Validation f1 score: 0.04166305760458433 Test f1 score: 0.041739627758042415\n",
      "\n",
      "\n",
      "Model with kernel = rbf  C= 0.001  gamma= auto\n",
      "Train Accuracy: 0.1552673969072165 Validation Accuracy: 0.15512242268041238 Test Accuracy: 0.1552751677852349\n",
      "Train f1 score: 0.04173573080463085 Validation f1 score: 0.04166305760458433 Test f1 score: 0.041739627758042415\n",
      "\n",
      "\n",
      "Model with kernel = rbf  C= 1.0  gamma= scale\n",
      "Train Accuracy: 0.9306056701030928 Validation Accuracy: 0.9186533505154639 Test Accuracy: 0.9254765100671141\n",
      "Train f1 score: 0.9299107157880034 Validation f1 score: 0.917618645244788 Test f1 score: 0.9246227986391252\n",
      "\n",
      "\n",
      "Model with kernel = rbf  C= 1.0  gamma= auto\n",
      "Train Accuracy: 0.30908505154639176 Validation Accuracy: 0.17694909793814434 Test Accuracy: 0.17540939597315436\n",
      "Train f1 score: 0.3082936584989006 Validation f1 score: 0.08488258897942177 Test f1 score: 0.08174153251994004\n",
      "\n",
      "\n",
      "Model with kernel = rbf  C= 100.0  gamma= scale\n",
      "Train Accuracy: 0.9477931701030928 Validation Accuracy: 0.9358086340206185 Test Accuracy: 0.9385234899328859\n",
      "Train f1 score: 0.9475220171112791 Validation f1 score: 0.9353216091484924 Test f1 score: 0.9381063875868415\n",
      "\n",
      "\n",
      "Model with kernel = rbf  C= 100.0  gamma= auto\n",
      "Train Accuracy: 0.30908505154639176 Validation Accuracy: 0.17694909793814434 Test Accuracy: 0.17540939597315436\n",
      "Train f1 score: 0.3082936584989006 Validation f1 score: 0.08488258897942177 Test f1 score: 0.08174153251994004\n",
      "\n",
      "\n",
      "Model with kernel = poly  C= 0.001  gamma= scale\n",
      "Train Accuracy: 0.24370167525773195 Validation Accuracy: 0.2506443298969072 Test Accuracy: 0.24515436241610739\n",
      "Train f1 score: 0.15088529091655406 Validation f1 score: 0.1542103195833361 Test f1 score: 0.15112744449369034\n",
      "\n",
      "\n",
      "Model with kernel = poly  C= 0.001  gamma= auto\n",
      "Train Accuracy: 0.9256926546391753 Validation Accuracy: 0.9088273195876289 Test Accuracy: 0.9128053691275168\n",
      "Train f1 score: 0.9254142864550521 Validation f1 score: 0.9084467673485823 Test f1 score: 0.9125670014327856\n",
      "\n",
      "\n",
      "Model with kernel = poly  C= 1.0  gamma= scale\n",
      "Train Accuracy: 0.8939432989690722 Validation Accuracy: 0.8805573453608248 Test Accuracy: 0.8838120805369127\n",
      "Train f1 score: 0.8947350879540427 Validation f1 score: 0.8807599846558871 Test f1 score: 0.8845162296370496\n",
      "\n",
      "\n",
      "Model with kernel = poly  C= 1.0  gamma= auto\n",
      "Train Accuracy: 0.9256926546391753 Validation Accuracy: 0.9088273195876289 Test Accuracy: 0.9128053691275168\n",
      "Train f1 score: 0.9254142864550521 Validation f1 score: 0.9084467673485823 Test f1 score: 0.9125670014327856\n",
      "\n",
      "\n",
      "Model with kernel = poly  C= 100.0  gamma= scale\n",
      "Train Accuracy: 0.9257731958762887 Validation Accuracy: 0.909068943298969 Test Accuracy: 0.913020134228188\n",
      "Train f1 score: 0.925484797501365 Validation f1 score: 0.9086807176284423 Test f1 score: 0.9127686168427475\n",
      "\n",
      "\n",
      "Model with kernel = poly  C= 100.0  gamma= auto\n",
      "Train Accuracy: 0.9256926546391753 Validation Accuracy: 0.9088273195876289 Test Accuracy: 0.9128053691275168\n",
      "Train f1 score: 0.9254142864550521 Validation f1 score: 0.9084467673485823 Test f1 score: 0.9125670014327856\n",
      "\n",
      "\n"
     ]
    }
   ],
   "source": [
    "\n",
    "kernel = ['linear','rbf','poly']\n",
    "C = [0.001, 1.0, 100.0]\n",
    "gamma = ['scale','auto']\n",
    "\n",
    "batch_size = 10000\n",
    "num_batches = int(x_train.shape[0] / batch_size)\n",
    "\n",
    "for a in kernel:\n",
    "    for b in C:\n",
    "        for c in gamma:\n",
    "            model_2 = SVC(kernel=a,gamma=c,C=b)\n",
    "            for i in range(num_batches):\n",
    "                batch_x = x_train[i*batch_size:(i+1)*batch_size]\n",
    "                batch_y = y_train[i*batch_size:(i+1)*batch_size]\n",
    "                model_2.fit(batch_x, batch_y)\n",
    "            y_pred_train = model_2.predict(x_train)\n",
    "            accuracy_train = accuracy_score(y_train, y_pred_train)\n",
    "            f1_train = f1_score(y_train, y_pred_train,average='weighted')\n",
    "            y_pred_val = model_2.predict(x_val)\n",
    "            accuracy_val = accuracy_score(y_val, y_pred_val)\n",
    "            f1_val = f1_score(y_val, y_pred_val,average='weighted')\n",
    "            y_pred_test = model_2.predict(x_test)\n",
    "            accuracy_test = accuracy_score(y_test, y_pred_test)\n",
    "            f1_test = f1_score(y_test, y_pred_test,average='weighted')\n",
    "            print(\"Model with kernel =\",a,\" C=\",b,\" gamma=\",c)\n",
    "            print(\"Train Accuracy:\", accuracy_train, \"Validation Accuracy:\", accuracy_val, \"Test Accuracy:\", accuracy_test)\n",
    "            print(\"Train f1 score:\", f1_train, \"Validation f1 score:\", f1_val, \"Test f1 score:\", f1_test)\n",
    "            print(\"\\n\")"
   ]
  },
  {
   "cell_type": "markdown",
   "metadata": {},
   "source": [
    "From the results above, it appears that the linear kernel with different combinations of C and gamma values produce similar accuracy and f1 score results for all three datasets, whereas the rbf kernel yielded better results, particularly with higher C values. The most optimal model was identified as the rbf kernel with C=100 and gamma=scale. It is worth noting that the rbf kernel with gamma=auto performed poorly, potentially due to the default calculation of 1 / (n_features * X.var()) not being the most appropriate for this dataset. Overall, the rbf kernel with C=100 and gamma=scale emerged as the most effective model out of all the models examined with an accuracy of 0.9385."
   ]
  },
  {
   "cell_type": "markdown",
   "metadata": {},
   "source": [
    "### Polynomial Kernel"
   ]
  },
  {
   "cell_type": "code",
   "execution_count": 9,
   "metadata": {},
   "outputs": [
    {
     "name": "stdout",
     "output_type": "stream",
     "text": [
      "Model with degree = 1\n",
      "Train Accuracy: 0.8852770618556701 Validation Accuracy: 0.8770135309278351 Test Accuracy: 0.88048322147651\n",
      "Train f1 score: 0.8841154669943685 Validation f1 score: 0.8753495745400449 Test f1 score: 0.8789631799001123\n",
      "\n",
      "\n",
      "Model with degree = 2\n",
      "Train Accuracy: 0.9165431701030928 Validation Accuracy: 0.9060083762886598 Test Accuracy: 0.9111946308724832\n",
      "Train f1 score: 0.9157512542693804 Validation f1 score: 0.9048787243771336 Test f1 score: 0.9102608282787787\n",
      "\n",
      "\n",
      "Model with degree = 3\n",
      "Train Accuracy: 0.8939432989690722 Validation Accuracy: 0.8805573453608248 Test Accuracy: 0.8838120805369127\n",
      "Train f1 score: 0.8947350879540427 Validation f1 score: 0.8807599846558871 Test f1 score: 0.8845162296370496\n",
      "\n",
      "\n",
      "Model with degree = 5\n",
      "Train Accuracy: 0.7978898195876288 Validation Accuracy: 0.7771423969072165 Test Accuracy: 0.7822281879194631\n",
      "Train f1 score: 0.8181555529923229 Validation f1 score: 0.7967383096408899 Test f1 score: 0.8017207081000921\n",
      "\n",
      "\n",
      "Model with degree = 7\n",
      "Train Accuracy: 0.7019813144329897 Validation Accuracy: 0.6777545103092784 Test Accuracy: 0.6812885906040268\n",
      "Train f1 score: 0.743294641947625 Validation f1 score: 0.7184499351498191 Test f1 score: 0.7215492091921462\n",
      "\n",
      "\n",
      "Model with degree = 9\n",
      "Train Accuracy: 0.6267557989690722 Validation Accuracy: 0.5932667525773195 Test Accuracy: 0.593503355704698\n",
      "Train f1 score: 0.6810959867662455 Validation f1 score: 0.6454973531595835 Test f1 score: 0.6466184503337715\n",
      "\n",
      "\n"
     ]
    }
   ],
   "source": [
    "degrees = [1, 2, 3, 5, 7, 9]\n",
    "\n",
    "batch_size = 10000\n",
    "num_batches = int(x_train.shape[0] / batch_size)\n",
    "for degree_value in degrees:\n",
    "            model_2 = SVC(kernel='poly',degree=degree_value)\n",
    "            for i in range(num_batches):\n",
    "                batch_x = x_train[i*batch_size:(i+1)*batch_size]\n",
    "                batch_y = y_train[i*batch_size:(i+1)*batch_size]\n",
    "                model_2.fit(batch_x, batch_y)\n",
    "            y_pred_train = model_2.predict(x_train)\n",
    "            accuracy_train = accuracy_score(y_train, y_pred_train)\n",
    "            f1_train = f1_score(y_train, y_pred_train,average='weighted')\n",
    "            y_pred_val = model_2.predict(x_val)\n",
    "            accuracy_val = accuracy_score(y_val, y_pred_val)\n",
    "            f1_val = f1_score(y_val, y_pred_val,average='weighted')\n",
    "            y_pred_test = model_2.predict(x_test)\n",
    "            accuracy_test = accuracy_score(y_test, y_pred_test)\n",
    "            f1_test = f1_score(y_test, y_pred_test,average='weighted')\n",
    "            print(\"Model with degree =\",degree_value)\n",
    "            print(\"Train Accuracy:\", accuracy_train, \"Validation Accuracy:\", accuracy_val, \"Test Accuracy:\", accuracy_test)\n",
    "            print(\"Train f1 score:\", f1_train, \"Validation f1 score:\", f1_val, \"Test f1 score:\", f1_test)\n",
    "            print(\"\\n\")"
   ]
  },
  {
   "cell_type": "markdown",
   "metadata": {},
   "source": [
    "The results indicate that the polynomial model with degree=2 performs the best on both the validation and test sets, with the highest accuracy and F1 score. The models with degree=1 and 3 also perform well, but not as well as the degree=2 model. On the other hand, the models with degree=5 , 7 and 9 perform worse than the models with degree=1, 2, and 3. Therefore, it appears that a polynomial model with degree=2 is the most suitable choice for this particular classification task with an accuracy of 0.91"
   ]
  },
  {
   "cell_type": "markdown",
   "metadata": {},
   "source": [
    "# Random Forest Classifier"
   ]
  },
  {
   "cell_type": "code",
   "execution_count": 12,
   "metadata": {},
   "outputs": [
    {
     "name": "stdout",
     "output_type": "stream",
     "text": [
      "Model with n_estimators = 10 max_depth = 5 min_samples_split = 2\n",
      "Train Accuracy: 0.6159954896907216 Validation Accuracy: 0.6076836340206185 Test Accuracy: 0.6090738255033558\n",
      "\n",
      "\n",
      "Model with n_estimators = 10 max_depth = 5 min_samples_split = 5\n",
      "Train Accuracy: 0.6127094072164948 Validation Accuracy: 0.6036565721649485 Test Accuracy: 0.6092885906040268\n",
      "\n",
      "\n",
      "Model with n_estimators = 10 max_depth = 5 min_samples_split = 10\n",
      "Train Accuracy: 0.6142557989690721 Validation Accuracy: 0.6048646907216495 Test Accuracy: 0.6095570469798658\n",
      "\n",
      "\n",
      "Model with n_estimators = 10 max_depth = 10 min_samples_split = 2\n",
      "Train Accuracy: 0.8985985824742269 Validation Accuracy: 0.8599387886597938 Test Accuracy: 0.8645369127516779\n",
      "\n",
      "\n",
      "Model with n_estimators = 10 max_depth = 10 min_samples_split = 5\n",
      "Train Accuracy: 0.8963595360824742 Validation Accuracy: 0.8542203608247423 Test Accuracy: 0.8592751677852349\n",
      "\n",
      "\n",
      "Model with n_estimators = 10 max_depth = 10 min_samples_split = 10\n",
      "Train Accuracy: 0.8994523195876288 Validation Accuracy: 0.8579252577319587 Test Accuracy: 0.8667919463087248\n",
      "\n",
      "\n",
      "Model with n_estimators = 10 max_depth = 20 min_samples_split = 2\n",
      "Train Accuracy: 0.9985502577319587 Validation Accuracy: 0.9101965206185567 Test Accuracy: 0.916241610738255\n",
      "\n",
      "\n",
      "Model with n_estimators = 10 max_depth = 20 min_samples_split = 5\n",
      "Train Accuracy: 0.9942493556701031 Validation Accuracy: 0.9120489690721649 Test Accuracy: 0.9133422818791946\n",
      "\n",
      "\n",
      "Model with n_estimators = 10 max_depth = 20 min_samples_split = 10\n",
      "Train Accuracy: 0.985583118556701 Validation Accuracy: 0.9114851804123711 Test Accuracy: 0.9155973154362416\n",
      "\n",
      "\n",
      "Model with n_estimators = 50 max_depth = 5 min_samples_split = 2\n",
      "Train Accuracy: 0.6418975515463917 Validation Accuracy: 0.6359536082474226 Test Accuracy: 0.6419865771812081\n",
      "\n",
      "\n",
      "Model with n_estimators = 50 max_depth = 5 min_samples_split = 5\n",
      "Train Accuracy: 0.6337306701030928 Validation Accuracy: 0.6241945876288659 Test Accuracy: 0.6304966442953021\n",
      "\n",
      "\n",
      "Model with n_estimators = 50 max_depth = 5 min_samples_split = 10\n",
      "Train Accuracy: 0.6402867268041237 Validation Accuracy: 0.6315238402061856 Test Accuracy: 0.6374228187919463\n",
      "\n",
      "\n",
      "Model with n_estimators = 50 max_depth = 10 min_samples_split = 2\n",
      "Train Accuracy: 0.921520618556701 Validation Accuracy: 0.8817654639175257 Test Accuracy: 0.8878389261744967\n",
      "\n",
      "\n",
      "Model with n_estimators = 50 max_depth = 10 min_samples_split = 5\n",
      "Train Accuracy: 0.9209729381443299 Validation Accuracy: 0.8848260309278351 Test Accuracy: 0.8897718120805369\n",
      "\n",
      "\n",
      "Model with n_estimators = 50 max_depth = 10 min_samples_split = 10\n",
      "Train Accuracy: 0.918347293814433 Validation Accuracy: 0.8784632731958762 Test Accuracy: 0.8896107382550336\n",
      "\n",
      "\n",
      "Model with n_estimators = 50 max_depth = 20 min_samples_split = 2\n",
      "Train Accuracy: 0.9996134020618557 Validation Accuracy: 0.9381443298969072 Test Accuracy: 0.9404026845637584\n",
      "\n",
      "\n",
      "Model with n_estimators = 50 max_depth = 20 min_samples_split = 5\n",
      "Train Accuracy: 0.9984536082474227 Validation Accuracy: 0.9395940721649485 Test Accuracy: 0.9403489932885906\n",
      "\n",
      "\n",
      "Model with n_estimators = 50 max_depth = 20 min_samples_split = 10\n",
      "Train Accuracy: 0.9947970360824743 Validation Accuracy: 0.9342783505154639 Test Accuracy: 0.9369127516778524\n",
      "\n",
      "\n",
      "Model with n_estimators = 100 max_depth = 5 min_samples_split = 2\n",
      "Train Accuracy: 0.6390625 Validation Accuracy: 0.631201675257732 Test Accuracy: 0.6383892617449665\n",
      "\n",
      "\n",
      "Model with n_estimators = 100 max_depth = 5 min_samples_split = 5\n",
      "Train Accuracy: 0.6435567010309279 Validation Accuracy: 0.6365979381443299 Test Accuracy: 0.6429530201342282\n",
      "\n",
      "\n",
      "Model with n_estimators = 100 max_depth = 5 min_samples_split = 10\n",
      "Train Accuracy: 0.6424935567010309 Validation Accuracy: 0.6338595360824743 Test Accuracy: 0.6420939597315436\n",
      "\n",
      "\n",
      "Model with n_estimators = 100 max_depth = 10 min_samples_split = 2\n",
      "Train Accuracy: 0.9253704896907217 Validation Accuracy: 0.8853898195876289 Test Accuracy: 0.8947651006711409\n",
      "\n",
      "\n",
      "Model with n_estimators = 100 max_depth = 10 min_samples_split = 5\n",
      "Train Accuracy: 0.924242912371134 Validation Accuracy: 0.8841817010309279 Test Accuracy: 0.892993288590604\n",
      "\n",
      "\n",
      "Model with n_estimators = 100 max_depth = 10 min_samples_split = 10\n",
      "Train Accuracy: 0.9216978092783505 Validation Accuracy: 0.8814432989690721 Test Accuracy: 0.8918120805369127\n",
      "\n",
      "\n",
      "Model with n_estimators = 100 max_depth = 20 min_samples_split = 2\n",
      "Train Accuracy: 0.9996939432989691 Validation Accuracy: 0.9435405927835051 Test Accuracy: 0.944\n",
      "\n",
      "\n",
      "Model with n_estimators = 100 max_depth = 20 min_samples_split = 5\n",
      "Train Accuracy: 0.9989690721649485 Validation Accuracy: 0.9414465206185567 Test Accuracy: 0.9437852348993289\n",
      "\n",
      "\n",
      "Model with n_estimators = 100 max_depth = 20 min_samples_split = 10\n",
      "Train Accuracy: 0.9952963917525773 Validation Accuracy: 0.9366140463917526 Test Accuracy: 0.9404026845637584\n",
      "\n",
      "\n"
     ]
    }
   ],
   "source": [
    "'''\n",
    "We will be changing the values of 3 hyper-parameters:- n_estimators, max_depth and min_samples_split, to see the impact of the hyperparameters.\n",
    "'''\n",
    "\n",
    "n_estimators = [10, 50, 100]\n",
    "max_depth = [5, 10, 20]\n",
    "min_samples_split = [2, 5, 10]\n",
    "\n",
    "for a in n_estimators:\n",
    "    for b in max_depth:\n",
    "        for c in min_samples_split:\n",
    "            model_3 = RandomForestClassifier(n_estimators=a, max_depth=b, min_samples_split=c)\n",
    "            model_3.fit(x_train, y_train)\n",
    "            y_pred_train = model_3.predict(x_train)\n",
    "            accuracy_train = accuracy_score(y_train, y_pred_train)\n",
    "            y_pred_val = model_3.predict(x_val)\n",
    "            accuracy_val = accuracy_score(y_val, y_pred_val)\n",
    "            y_pred_test = model_3.predict(x_test)\n",
    "            accuracy_test = accuracy_score(y_test, y_pred_test)\n",
    "            print(\"Model with n_estimators =\",a,\"max_depth =\",b,\"min_samples_split =\",c)\n",
    "            print(\"Train Accuracy:\", accuracy_train, \"Validation Accuracy:\", accuracy_val, \"Test Accuracy:\", accuracy_test)\n",
    "            print(\"\\n\")"
   ]
  },
  {
   "cell_type": "markdown",
   "metadata": {},
   "source": [
    "Based on the above results, it was observed that the model with n_estimators = 100, max_depth = 20, and min_samples_split = 2 had the best accuracy with value of 0.944 on both the validation and test sets. While increasing the number and depth of decision trees tends to increase accuracy, excessive depth may result in overfitting. Additionally, an increase in the minimum number of samples required to split an internal node can prevent overfitting. "
   ]
  },
  {
   "cell_type": "code",
   "execution_count": 16,
   "metadata": {
    "scrolled": true
   },
   "outputs": [
    {
     "data": {
      "image/png": "[encoded data removed]",
      "text/plain": [
       "<Figure size 1080x1080 with 2 Axes>"
      ]
     },
     "metadata": {
      "needs_background": "light"
     },
     "output_type": "display_data"
    }
   ],
   "source": [
    "'''\n",
    "Feature importance analysis using in-built function for random forest. From this, we can find out the features which are most\n",
    "impacting and features which have the least influence on the model.\n",
    "'''\n",
    "import seaborn as sns\n",
    "clf_rf = RandomForestClassifier(n_estimators=100, max_depth=20, min_samples_split=10)\n",
    "clf_rf.fit(x_train, y_train)\n",
    "feature_importance = dict(zip(x_train.columns, clf_rf.feature_importances_))\n",
    "indices = np.argsort(feature_importance)[::-1]\n",
    "\n",
    "feature_importance = dict(zip(x_train.columns, clf_rf.feature_importances_))\n",
    "\n",
    "df_feature_importance = pd.DataFrame.from_dict(feature_importance, orient='index', columns=['Importance'])\n",
    "df_feature_importance = df_feature_importance.sort_values('Importance', ascending=False)\n",
    "\n",
    "# Selecting top 15 features\n",
    "top_features = df_feature_importance[:15]\n",
    "\n",
    "\n",
    "fig, ax = plt.subplots(figsize=(15,15))\n",
    "sns.heatmap(top_features, cmap='Blues', annot=True, fmt='.3f', ax=ax)\n",
    "plt.title('Feature Importance (Top 15)')\n",
    "plt.show()"
   ]
  },
  {
   "cell_type": "markdown",
   "metadata": {},
   "source": [
    "The above plot shows top 15 features which are selected based on their importance scores, and a heatmap is plotted .The heatmap exhibits the top 15 features with their respective importance scores, where a higher score implies a greater importance in predicting the target variable.The column '0.372' has the highest feature importance with a value of 0.007."
   ]
  },
  {
   "cell_type": "markdown",
   "metadata": {},
   "source": [
    "# Ensemble"
   ]
  },
  {
   "cell_type": "code",
   "execution_count": 17,
   "metadata": {},
   "outputs": [],
   "source": [
    "'''\n",
    "We will now create an ensemble model out of the 3 best performing models which are:\n",
    "Multinomial Logistic Regression (Softmax Regression) with penalty = 'l2' | max_iter = 100 | C = 0.001\n",
    "SVM with kernel as 'rbf'\n",
    "Random Forest Classifier with n_estimators = 100 | max_depth = 20 | min_samples_split = 2\n",
    "'''\n",
    "\n",
    "clf_lr = LogisticRegression(multi_class='multinomial', solver='lbfgs', penalty='l2', max_iter=100, C=0.001)\n",
    "clf_svm = SVC(kernel='rbf',probability=True)\n",
    "clf_rf = RandomForestClassifier(n_estimators=100, max_depth=20, min_samples_split=2)"
   ]
  },
  {
   "cell_type": "code",
   "execution_count": 18,
   "metadata": {},
   "outputs": [
    {
     "data": {
      "text/plain": [
       "VotingClassifier(estimators=[('lr',\n",
       "                              LogisticRegression(C=0.001,\n",
       "                                                 multi_class='multinomial')),\n",
       "                             ('svm', SVC(probability=True)),\n",
       "                             ('rf',\n",
       "                              RandomForestClassifier(max_depth=20,\n",
       "                                                     min_samples_split=10))],\n",
       "                 voting='soft')"
      ]
     },
     "execution_count": 18,
     "metadata": {},
     "output_type": "execute_result"
    }
   ],
   "source": [
    "voting_clf = VotingClassifier(\n",
    " estimators=[('lr', clf_lr), ('svm', clf_svm), ('rf', clf_rf)],\n",
    " voting='soft')\n",
    "voting_clf.fit(x_train, y_train)"
   ]
  },
  {
   "cell_type": "code",
   "execution_count": 19,
   "metadata": {},
   "outputs": [
    {
     "name": "stdout",
     "output_type": "stream",
     "text": [
      "Accuracy: 0.9495838926174497\n"
     ]
    }
   ],
   "source": [
    "y_pred = voting_clf.predict(x_test)\n",
    "accuracy = accuracy_score(y_test, y_pred)\n",
    "print(\"Accuracy:\", accuracy)"
   ]
  },
  {
   "cell_type": "markdown",
   "metadata": {},
   "source": [
    "The above voting classifier  utilizes three models, namely logistic regression, support vector machine, and random forest, to combine their predictions using soft voting. In soft voting, the predicted class is selected based on the highest probability of a class across all models. TThe accuracy of the voting classifier is reported to be almost 0.95. This accuracy is better than all the individual accuracies achieved by the three models used in the ensemble, suggesting that the combination of models and the voting method helped to improve the overall accuracy of the predictions."
   ]
  }
 ],
 "metadata": {
  "kernelspec": {
   "display_name": "Python 3",
   "language": "python",
   "name": "python3"
  },
  "language_info": {
   "codemirror_mode": {
    "name": "ipython",
    "version": 3
   },
   "file_extension": ".py",
   "mimetype": "text/x-python",
   "name": "python",
   "nbconvert_exporter": "python",
   "pygments_lexer": "ipython3",
   "version": "3.7.9"
  }
 },
 "nbformat": 4,
 "nbformat_minor": 5
}
